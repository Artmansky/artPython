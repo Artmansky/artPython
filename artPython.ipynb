{
 "cells": [
  {
   "cell_type": "code",
   "execution_count": 3,
   "id": "a758b0c8-ca43-45d6-b634-f45d0a7af2f6",
   "metadata": {},
   "outputs": [],
   "source": [
    "import torch\n",
    "import torch.nn as nn\n",
    "import torch.optim as optim\n",
    "from torch.utils.data import Dataset, DataLoader\n",
    "import torchvision\n",
    "import torchvision.transforms as transforms\n",
    "from torchvision.datasets import ImageFolder\n",
    "import timm\n",
    "\n",
    "import matplotlib.pyplot as plt\n",
    "import pandas as pd\n",
    "import numpy as np\n",
    "import sys\n",
    "from tqdm.notebook import tqdm"
   ]
  },
  {
   "cell_type": "code",
   "execution_count": 4,
   "id": "61e7c856-d328-4d9d-8fc9-2c6a5ba49043",
   "metadata": {},
   "outputs": [],
   "source": [
    "class artStylesDataset(Dataset):\n",
    "    def __init__(self,data_dir,transform=None):\n",
    "        self.data = ImageFolder(data_dir, transform=transform)\n",
    "\n",
    "    def __len__(self):\n",
    "        return len(self.data)\n",
    "\n",
    "    def __getitem__(self,idx):\n",
    "        return self.data[idx]\n",
    "\n",
    "    @property\n",
    "    def classes(self):\n",
    "        return self.data.classes"
   ]
  },
  {
   "cell_type": "code",
   "execution_count": 5,
   "id": "c90fd3db-df5a-48ac-849e-7e6020dc1c5c",
   "metadata": {},
   "outputs": [
    {
     "name": "stdout",
     "output_type": "stream",
     "text": [
      "{0: 'baroque', 1: 'cubism', 2: 'pop-art', 3: 'postimpressionism'}\n"
     ]
    }
   ],
   "source": [
    "target_to_class = {v: k for k, v in ImageFolder(\"./Data\").class_to_idx.items()}\n",
    "print(target_to_class)"
   ]
  },
  {
   "cell_type": "code",
   "execution_count": 6,
   "id": "0c488c0d-55e6-459d-92aa-59cbe041a28e",
   "metadata": {},
   "outputs": [],
   "source": [
    "transform = transforms.Compose([\n",
    "    transforms.Resize((464,600)),\n",
    "    transforms.ToTensor(),\n",
    "])\n",
    "\n",
    "dataset = artStylesDataset(\"./Data\",transform)"
   ]
  },
  {
   "cell_type": "code",
   "execution_count": 7,
   "id": "fab25a15-58ed-48b6-8531-f4afea958f0c",
   "metadata": {},
   "outputs": [],
   "source": [
    "dataloader = DataLoader(dataset, batch_size=32, shuffle=True)"
   ]
  },
  {
   "cell_type": "code",
   "execution_count": 8,
   "id": "6eab4136-1e90-445e-9bc6-724fb5a684d6",
   "metadata": {},
   "outputs": [],
   "source": [
    "class ArtsClassifier(nn.Module):\n",
    "    def __init__(self, num_classes=4):\n",
    "        super(ArtsClassifier,self).__init__()\n",
    "        self.base_model = timm.create_model(\"efficientnet_b0\", pretrained=True)\n",
    "        self.features = nn.Sequential(*list(self.base_model.children())[:-1])\n",
    "        \n",
    "        enet_out_size = 1280\n",
    "        self.classifier = nn.Linear(enet_out_size,num_classes)\n",
    "        \n",
    "\n",
    "    def forward(self,x):\n",
    "        x = self.features(x)\n",
    "        output = self.classifier(x)\n",
    "        return output"
   ]
  },
  {
   "cell_type": "code",
   "execution_count": 9,
   "id": "d868f01e-f3bc-465e-b6dd-853f7b874826",
   "metadata": {},
   "outputs": [],
   "source": [
    "model = ArtsClassifier(num_classes=4)"
   ]
  },
  {
   "cell_type": "code",
   "execution_count": 10,
   "id": "b997b4f9-b49f-4068-a3ac-2cb53bb5de2a",
   "metadata": {},
   "outputs": [],
   "source": [
    "for images, labels in dataloader:\n",
    "    break"
   ]
  },
  {
   "cell_type": "code",
   "execution_count": 11,
   "id": "ca211915-7d23-45db-a5b3-5858fc8340fa",
   "metadata": {},
   "outputs": [
    {
     "data": {
      "text/plain": [
       "tensor([[-0.2031,  0.2124,  0.1654,  0.0262],\n",
       "        [-0.1776, -0.0910,  0.0688, -0.0530],\n",
       "        [-0.0398,  0.1060,  0.0537, -0.0138],\n",
       "        [-0.1050,  0.1499, -0.0825,  0.1174],\n",
       "        [-0.1912,  0.3526, -0.0133,  0.1270],\n",
       "        [-0.0547, -0.0793, -0.0173,  0.0149],\n",
       "        [ 0.2139,  0.1023, -0.0736,  0.2486],\n",
       "        [-0.2819,  0.0211,  0.0956,  0.0591],\n",
       "        [-0.4702,  0.1528, -0.1348, -0.0305],\n",
       "        [-0.1959,  0.1715,  0.0511, -0.0900],\n",
       "        [ 0.0240,  0.1315,  0.0698, -0.1370],\n",
       "        [-0.1303, -0.0343, -0.2110,  0.0640],\n",
       "        [-0.2191,  0.0690, -0.1069, -0.1219],\n",
       "        [-0.0631, -0.0543, -0.0488,  0.0827],\n",
       "        [ 0.0537,  0.3024,  0.0373, -0.0917],\n",
       "        [-0.2887,  0.2350,  0.0118,  0.0131],\n",
       "        [-0.1516, -0.1125, -0.0711,  0.0258],\n",
       "        [-0.1427, -0.0611, -0.0724, -0.1741],\n",
       "        [-0.2160,  0.2687, -0.0789,  0.0384],\n",
       "        [-0.1044,  0.0424,  0.0691, -0.1330],\n",
       "        [-0.3935,  0.1082, -0.1038, -0.0966],\n",
       "        [-0.1658,  0.0561, -0.1068, -0.0224],\n",
       "        [-0.0250, -0.0578,  0.0334,  0.0038],\n",
       "        [-0.0877, -0.0102, -0.2055,  0.0206],\n",
       "        [-0.2448, -0.0253,  0.1364,  0.1404],\n",
       "        [-0.3111, -0.0833, -0.0134,  0.0878],\n",
       "        [-0.1656,  0.1629,  0.0526, -0.1097],\n",
       "        [-0.2841,  0.0523, -0.0649,  0.3608],\n",
       "        [-0.1534,  0.1054,  0.0273,  0.0302],\n",
       "        [-0.2183, -0.0097,  0.2762,  0.0099],\n",
       "        [-0.1844,  0.1173,  0.0649, -0.1155],\n",
       "        [-0.0984,  0.2001, -0.1871, -0.0351]], grad_fn=<AddmmBackward0>)"
      ]
     },
     "execution_count": 11,
     "metadata": {},
     "output_type": "execute_result"
    }
   ],
   "source": [
    "model(images)"
   ]
  },
  {
   "cell_type": "code",
   "execution_count": null,
   "id": "dd44bbe7-7bfd-4c67-88a9-c20a73a06a74",
   "metadata": {},
   "outputs": [],
   "source": []
  }
 ],
 "metadata": {
  "kernelspec": {
   "display_name": "Python 3 (ipykernel)",
   "language": "python",
   "name": "python3"
  },
  "language_info": {
   "codemirror_mode": {
    "name": "ipython",
    "version": 3
   },
   "file_extension": ".py",
   "mimetype": "text/x-python",
   "name": "python",
   "nbconvert_exporter": "python",
   "pygments_lexer": "ipython3",
   "version": "3.12.0"
  }
 },
 "nbformat": 4,
 "nbformat_minor": 5
}
