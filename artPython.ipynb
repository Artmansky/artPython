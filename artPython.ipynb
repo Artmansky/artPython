{
 "cells": [
  {
   "cell_type": "code",
   "execution_count": 1,
   "id": "a758b0c8-ca43-45d6-b634-f45d0a7af2f6",
   "metadata": {},
   "outputs": [],
   "source": [
    "import torch\n",
    "import torch.nn as nn\n",
    "import torch.optim as optim\n",
    "from torch.utils.data import Dataset, DataLoader\n",
    "import torchvision\n",
    "import torchvision.transforms as transforms\n",
    "from torchvision.datasets import ImageFolder\n",
    "import timm\n",
    "import pickle\n",
    "import random\n",
    "from PIL import Image\n",
    "\n",
    "import matplotlib.pyplot as plt\n",
    "import numpy as np\n",
    "from tqdm.notebook import tqdm"
   ]
  },
  {
   "cell_type": "code",
   "execution_count": 2,
   "id": "61e7c856-d328-4d9d-8fc9-2c6a5ba49043",
   "metadata": {},
   "outputs": [],
   "source": [
    "class artStylesDataset(Dataset):\n",
    "    def __init__(self,data_dir,transform=None):\n",
    "        self.data = ImageFolder(data_dir, transform=transform)\n",
    "\n",
    "    def __len__(self):\n",
    "        return len(self.data)\n",
    "\n",
    "    def __getitem__(self,idx):\n",
    "        return self.data[idx]\n",
    "\n",
    "    @property\n",
    "    def classes(self):\n",
    "        return self.data.classes"
   ]
  },
  {
   "cell_type": "code",
   "execution_count": 3,
   "id": "6eab4136-1e90-445e-9bc6-724fb5a684d6",
   "metadata": {},
   "outputs": [],
   "source": [
    "class ArtsClassifier(nn.Module):\n",
    "    def __init__(self, num_classes=4):\n",
    "        super(ArtsClassifier,self).__init__()\n",
    "        self.base_model = timm.create_model(\"efficientnet_b0\", pretrained=True)\n",
    "        self.features = nn.Sequential(*list(self.base_model.children())[:-1])\n",
    "        \n",
    "        enet_out_size = 1280\n",
    "        self.classifier = nn.Linear(enet_out_size,num_classes)\n",
    "        \n",
    "\n",
    "    def forward(self,x):\n",
    "        x = self.features(x)\n",
    "        output = self.classifier(x)\n",
    "        return output"
   ]
  },
  {
   "cell_type": "code",
   "execution_count": 4,
   "id": "6f656c07-b600-4658-b953-fb5a1f5dcb2f",
   "metadata": {},
   "outputs": [],
   "source": [
    "transform = transforms.Compose([\n",
    "    transforms.Resize((464,600)),\n",
    "    transforms.ToTensor(),\n",
    "])\n",
    "\n",
    "model_path = \"train_model.pkl\"\n",
    "\n",
    "trainDataset = artStylesDataset(\"./Data\", transform=transform)\n",
    "validDataset = artStylesDataset(\"./Valid\", transform=transform)\n",
    "\n",
    "trainLoader = DataLoader(trainDataset,batch_size=16,shuffle=True)\n",
    "validLoader = DataLoader(validDataset,batch_size=16,shuffle=True)"
   ]
  },
  {
   "cell_type": "code",
   "execution_count": 5,
   "id": "8d4e59d3-3210-4a68-9330-1e1dc225c170",
   "metadata": {},
   "outputs": [],
   "source": [
    "device = torch.device(\"cuda:0\" if torch.cuda.is_available() else \"cpu\")\n",
    "\n",
    "model = ArtsClassifier(num_classes=4)\n",
    "model.to(device)\n",
    "\n",
    "try:\n",
    "    with open(model_path, 'rb') as file:  \n",
    "        model = pickle.load(file)\n",
    "except:\n",
    "    pass"
   ]
  },
  {
   "cell_type": "code",
   "execution_count": null,
   "id": "44c5bf56-596f-4766-91b4-2608fa326716",
   "metadata": {},
   "outputs": [
    {
     "name": "stdout",
     "output_type": "stream",
     "text": [
      "Training session start\n"
     ]
    },
    {
     "data": {
      "application/vnd.jupyter.widget-view+json": {
       "model_id": "675d04954d4a441583956cfdcaafaadb",
       "version_major": 2,
       "version_minor": 0
      },
      "text/plain": [
       "Training progress:   0%|          | 0/29 [00:00<?, ?it/s]"
      ]
     },
     "metadata": {},
     "output_type": "display_data"
    },
    {
     "data": {
      "application/vnd.jupyter.widget-view+json": {
       "model_id": "d90b782bf9c0486eaea18edda14b4446",
       "version_major": 2,
       "version_minor": 0
      },
      "text/plain": [
       "Validation progress:   0%|          | 0/3 [00:00<?, ?it/s]"
      ]
     },
     "metadata": {},
     "output_type": "display_data"
    },
    {
     "name": "stdout",
     "output_type": "stream",
     "text": [
      "Epoch 1/10 - Train loss: 0.07255918333216649, Validation loss: 0.17586793386658958\n"
     ]
    },
    {
     "data": {
      "application/vnd.jupyter.widget-view+json": {
       "model_id": "373902d610cb427aa6a1ff4495535ae0",
       "version_major": 2,
       "version_minor": 0
      },
      "text/plain": [
       "Training progress:   0%|          | 0/29 [00:00<?, ?it/s]"
      ]
     },
     "metadata": {},
     "output_type": "display_data"
    },
    {
     "data": {
      "application/vnd.jupyter.widget-view+json": {
       "model_id": "6cc74c2f2c2e47d19abd455ec2736b01",
       "version_major": 2,
       "version_minor": 0
      },
      "text/plain": [
       "Validation progress:   0%|          | 0/3 [00:00<?, ?it/s]"
      ]
     },
     "metadata": {},
     "output_type": "display_data"
    },
    {
     "name": "stdout",
     "output_type": "stream",
     "text": [
      "Epoch 2/10 - Train loss: 0.01878681469150708, Validation loss: 0.17596188256906908\n"
     ]
    },
    {
     "data": {
      "application/vnd.jupyter.widget-view+json": {
       "model_id": "fa3a7219c7ba4717906c383f3b1f22ff",
       "version_major": 2,
       "version_minor": 0
      },
      "text/plain": [
       "Training progress:   0%|          | 0/29 [00:00<?, ?it/s]"
      ]
     },
     "metadata": {},
     "output_type": "display_data"
    },
    {
     "data": {
      "application/vnd.jupyter.widget-view+json": {
       "model_id": "1db0f1602a224fa1949d049331abd262",
       "version_major": 2,
       "version_minor": 0
      },
      "text/plain": [
       "Validation progress:   0%|          | 0/3 [00:00<?, ?it/s]"
      ]
     },
     "metadata": {},
     "output_type": "display_data"
    },
    {
     "name": "stdout",
     "output_type": "stream",
     "text": [
      "Epoch 3/10 - Train loss: 0.02085021049469414, Validation loss: 0.15720972869285318\n"
     ]
    },
    {
     "data": {
      "application/vnd.jupyter.widget-view+json": {
       "model_id": "ec80a44bad5a4a829e9148da2c2e8f73",
       "version_major": 2,
       "version_minor": 0
      },
      "text/plain": [
       "Training progress:   0%|          | 0/29 [00:00<?, ?it/s]"
      ]
     },
     "metadata": {},
     "output_type": "display_data"
    },
    {
     "data": {
      "application/vnd.jupyter.widget-view+json": {
       "model_id": "b8e9cbb22e1d4deea7d1227ff3eeeb29",
       "version_major": 2,
       "version_minor": 0
      },
      "text/plain": [
       "Validation progress:   0%|          | 0/3 [00:00<?, ?it/s]"
      ]
     },
     "metadata": {},
     "output_type": "display_data"
    },
    {
     "name": "stdout",
     "output_type": "stream",
     "text": [
      "Epoch 4/10 - Train loss: 0.009626220518390807, Validation loss: 0.1357854311895925\n"
     ]
    },
    {
     "data": {
      "application/vnd.jupyter.widget-view+json": {
       "model_id": "3c71ab9793b64640bf2861c8189c891e",
       "version_major": 2,
       "version_minor": 0
      },
      "text/plain": [
       "Training progress:   0%|          | 0/29 [00:00<?, ?it/s]"
      ]
     },
     "metadata": {},
     "output_type": "display_data"
    },
    {
     "data": {
      "application/vnd.jupyter.widget-view+json": {
       "model_id": "6d6b069396ce41d4857ba29b380dcc1b",
       "version_major": 2,
       "version_minor": 0
      },
      "text/plain": [
       "Validation progress:   0%|          | 0/3 [00:00<?, ?it/s]"
      ]
     },
     "metadata": {},
     "output_type": "display_data"
    },
    {
     "name": "stdout",
     "output_type": "stream",
     "text": [
      "Epoch 5/10 - Train loss: 0.019281189232276924, Validation loss: 0.1084737233644308\n"
     ]
    },
    {
     "data": {
      "application/vnd.jupyter.widget-view+json": {
       "model_id": "0324ddd9bb754d4b8349226fdf171476",
       "version_major": 2,
       "version_minor": 0
      },
      "text/plain": [
       "Training progress:   0%|          | 0/29 [00:00<?, ?it/s]"
      ]
     },
     "metadata": {},
     "output_type": "display_data"
    },
    {
     "data": {
      "application/vnd.jupyter.widget-view+json": {
       "model_id": "96b0260d668e42a89662017d08bf4a8f",
       "version_major": 2,
       "version_minor": 0
      },
      "text/plain": [
       "Validation progress:   0%|          | 0/3 [00:00<?, ?it/s]"
      ]
     },
     "metadata": {},
     "output_type": "display_data"
    },
    {
     "name": "stdout",
     "output_type": "stream",
     "text": [
      "Epoch 6/10 - Train loss: 0.02100452422143867, Validation loss: 0.09423240776671919\n"
     ]
    },
    {
     "data": {
      "application/vnd.jupyter.widget-view+json": {
       "model_id": "5a5d6b7e384b49e88818b1a03e39960c",
       "version_major": 2,
       "version_minor": 0
      },
      "text/plain": [
       "Training progress:   0%|          | 0/29 [00:00<?, ?it/s]"
      ]
     },
     "metadata": {},
     "output_type": "display_data"
    },
    {
     "data": {
      "application/vnd.jupyter.widget-view+json": {
       "model_id": "c1e6250f929844fb8dbeae35af6921e9",
       "version_major": 2,
       "version_minor": 0
      },
      "text/plain": [
       "Validation progress:   0%|          | 0/3 [00:00<?, ?it/s]"
      ]
     },
     "metadata": {},
     "output_type": "display_data"
    },
    {
     "name": "stdout",
     "output_type": "stream",
     "text": [
      "Epoch 7/10 - Train loss: 0.020646129546088007, Validation loss: 0.06739342105466613\n"
     ]
    },
    {
     "data": {
      "application/vnd.jupyter.widget-view+json": {
       "model_id": "a57cdca25c4849738a1401cce3148112",
       "version_major": 2,
       "version_minor": 0
      },
      "text/plain": [
       "Training progress:   0%|          | 0/29 [00:00<?, ?it/s]"
      ]
     },
     "metadata": {},
     "output_type": "display_data"
    },
    {
     "data": {
      "application/vnd.jupyter.widget-view+json": {
       "model_id": "70ce07d1edd94c29ada0c21e550f6228",
       "version_major": 2,
       "version_minor": 0
      },
      "text/plain": [
       "Validation progress:   0%|          | 0/3 [00:00<?, ?it/s]"
      ]
     },
     "metadata": {},
     "output_type": "display_data"
    },
    {
     "name": "stdout",
     "output_type": "stream",
     "text": [
      "Epoch 8/10 - Train loss: 0.014973073661848411, Validation loss: 0.08614316426737365\n"
     ]
    },
    {
     "data": {
      "application/vnd.jupyter.widget-view+json": {
       "model_id": "9345df5d465f47fab1032e46823f81fc",
       "version_major": 2,
       "version_minor": 0
      },
      "text/plain": [
       "Training progress:   0%|          | 0/29 [00:00<?, ?it/s]"
      ]
     },
     "metadata": {},
     "output_type": "display_data"
    },
    {
     "data": {
      "application/vnd.jupyter.widget-view+json": {
       "model_id": "9cbda31474b8464b847f2ed31d23764b",
       "version_major": 2,
       "version_minor": 0
      },
      "text/plain": [
       "Validation progress:   0%|          | 0/3 [00:00<?, ?it/s]"
      ]
     },
     "metadata": {},
     "output_type": "display_data"
    },
    {
     "name": "stdout",
     "output_type": "stream",
     "text": [
      "Epoch 9/10 - Train loss: 0.010538853904938054, Validation loss: 0.051892183937652166\n"
     ]
    },
    {
     "data": {
      "application/vnd.jupyter.widget-view+json": {
       "model_id": "bbedc3aa9f79497697ec5dfaf02cccb2",
       "version_major": 2,
       "version_minor": 0
      },
      "text/plain": [
       "Training progress:   0%|          | 0/29 [00:00<?, ?it/s]"
      ]
     },
     "metadata": {},
     "output_type": "display_data"
    }
   ],
   "source": [
    "num_epoch = 10\n",
    "trainLoss,valLoss = [], []\n",
    "\n",
    "criterion = nn.CrossEntropyLoss()\n",
    "optimizer = optim.Adam(model.parameters(),lr=0.0001)\n",
    "\n",
    "print(\"Training session start\")\n",
    "for epoch in range(num_epoch):\n",
    "    model.train()\n",
    "    running_loss = 0.0\n",
    "    for images,labels in tqdm(trainLoader,desc=\"Training progress\"):\n",
    "        images, labels = images.to(device), labels.to(device)\n",
    "        optimizer.zero_grad()\n",
    "        outputs = model(images)\n",
    "        loss=criterion(outputs,labels)\n",
    "        loss.backward()\n",
    "        optimizer.step()\n",
    "        running_loss += loss.item() * labels.size(0)\n",
    "    train_loss = running_loss/len(trainLoader.dataset)\n",
    "    trainLoss.append(train_loss)\n",
    "\n",
    "    model.eval()\n",
    "    running_loss = 0.0\n",
    "    with torch.no_grad():\n",
    "        for images,labels in tqdm(validLoader,desc=\"Validation progress\"):\n",
    "            images, labels = images.to(device), labels.to(device)\n",
    "            outputs = model(images)\n",
    "            loss = criterion(outputs, labels)\n",
    "            running_loss += loss.item() * labels.size(0)\n",
    "    val_loss = running_loss / len(validLoader.dataset)\n",
    "    valLoss.append(val_loss)\n",
    "    print(f\"Epoch {epoch+1}/{num_epoch} - Train loss: {train_loss}, Validation loss: {val_loss}\")"
   ]
  },
  {
   "cell_type": "code",
   "execution_count": null,
   "id": "713de301-dc22-4331-95e6-f084f659b372",
   "metadata": {},
   "outputs": [],
   "source": [
    "plt.plot(trainLoss, label=\"Training loss\")\n",
    "plt.plot(valLoss, label=\"Validation loss\")\n",
    "plt.legend()\n",
    "plt.title(\"Loss over epochs\")\n",
    "plt.show()"
   ]
  },
  {
   "cell_type": "markdown",
   "id": "f301fd46-7510-404a-9b03-449f064b5238",
   "metadata": {},
   "source": [
    "Saving/Loading Model"
   ]
  },
  {
   "cell_type": "code",
   "execution_count": null,
   "id": "3e0bad27-83ca-4562-8083-57446eeb1cf2",
   "metadata": {},
   "outputs": [],
   "source": [
    "with open(model_path, 'wb') as file:  \n",
    "    pickle.dump(model, file)"
   ]
  },
  {
   "cell_type": "markdown",
   "id": "3bb8d482-11c5-4abd-b7ec-6fa0320cea11",
   "metadata": {},
   "source": [
    "Simple model test below"
   ]
  },
  {
   "cell_type": "code",
   "execution_count": null,
   "id": "8275e59c-1579-4026-946d-fa1bf313534f",
   "metadata": {},
   "outputs": [],
   "source": [
    "def preprocess_image(image_path, transform):\n",
    "    image = Image.open(image_path).convert(\"RGB\")\n",
    "    return image, transform(image).unsqueeze(0)\n",
    "\n",
    "def predict(model, image_tensor, device):\n",
    "    model.eval()\n",
    "    with torch.no_grad():\n",
    "        image_tensor = image_tensor.to(device)\n",
    "        outputs = model(image_tensor)\n",
    "        probabilities = torch.nn.functional.softmax(outputs, dim=1)\n",
    "    return probabilities.cpu().numpy().flatten()\n",
    "\n",
    "def visualize_predictions(original_image, probabilities, class_names, picture_name):\n",
    "    fig, axarr = plt.subplots(1, 2, figsize=(14, 7))\n",
    "    \n",
    "    # Display image\n",
    "    axarr[0].imshow(original_image)\n",
    "    axarr[0].text(35,-15,picture_name)\n",
    "    axarr[0].axis(\"off\")\n",
    "    \n",
    "    # Display predictions\n",
    "    axarr[1].barh(class_names, probabilities)\n",
    "    axarr[1].set_xlabel(\"Probability\")\n",
    "    axarr[1].set_title(\"Era Prediction\")\n",
    "    axarr[1].set_xlim(0, 1)\n",
    "\n",
    "    plt.tight_layout()\n",
    "    plt.show()\n",
    "\n",
    "image_paths = [\n",
    "    \"./Test/baroque/christ-in-the-storm.png\",\n",
    "    \"./Test/baroque/the-anatomy-lesson-of-dr-nicolaes-tulp.png\",\n",
    "    \"./Test/pop-art/mickey.png\",\n",
    "    \"./Test/pop-art/interior-with-mirrored-wall.png\",\n",
    "    \"./Test/postimpressionsm/bibemus-quarry.png\",\n",
    "    \"./Test/postimpressionsm/vase-with-peonies.png\",\n",
    "    \"./Test/cubism/still-life-in-front-of-a-window-at-saint-raphael.png\",\n",
    "    \"./Test/cubism/hobo.png\"\n",
    "]\n",
    "\n",
    "test_image = random.choice(image_paths)\n",
    "\n",
    "#Special Case\n",
    "#test_image = \"./Test/cubism/landscape-near-antwerp.png\"\n",
    "#test_image = \"./christ-in-the-storm.png\"\n",
    "\n",
    "transform = transforms.Compose([\n",
    "    transforms.Resize((464, 600)),\n",
    "    transforms.ToTensor()\n",
    "])\n",
    "\n",
    "original_image, image_tensor = preprocess_image(test_image, transform)\n",
    "probabilities = predict(model, image_tensor, device)\n",
    "\n",
    "class_names = trainDataset.classes \n",
    "visualize_predictions(original_image, probabilities, class_names, test_image)"
   ]
  },
  {
   "cell_type": "markdown",
   "id": "70110eaf-1c37-4fd8-b928-4059b98cf7b1",
   "metadata": {},
   "source": [
    "END"
   ]
  }
 ],
 "metadata": {
  "kernelspec": {
   "display_name": "Python 3 (ipykernel)",
   "language": "python",
   "name": "python3"
  },
  "language_info": {
   "codemirror_mode": {
    "name": "ipython",
    "version": 3
   },
   "file_extension": ".py",
   "mimetype": "text/x-python",
   "name": "python",
   "nbconvert_exporter": "python",
   "pygments_lexer": "ipython3",
   "version": "3.12.0"
  }
 },
 "nbformat": 4,
 "nbformat_minor": 5
}
